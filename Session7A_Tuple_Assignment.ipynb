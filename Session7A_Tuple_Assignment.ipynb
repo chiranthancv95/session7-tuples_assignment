{
 "cells": [
  {
   "cell_type": "code",
   "execution_count": 1,
   "metadata": {},
   "outputs": [],
   "source": [
    "from collections import namedtuple\n",
    "from faker import Faker\n",
    "import datetime\n",
    "from time import perf_counter\n",
    "from functools import wraps\n",
    "import re\n",
    "import random\n",
    "import string\n",
    "\n",
    "from datetime import date\n"
   ]
  },
  {
   "cell_type": "code",
   "execution_count": 2,
   "metadata": {},
   "outputs": [
    {
     "data": {
      "text/plain": [
       "{'job': 'Medical illustrator',\n",
       " 'company': 'Johnson PLC',\n",
       " 'ssn': '175-50-0761',\n",
       " 'residence': '794 Donovan Avenue\\nEricborough, MT 44584',\n",
       " 'current_location': (Decimal('88.376515'), Decimal('-156.640572')),\n",
       " 'blood_group': 'B-',\n",
       " 'website': ['https://smith.com/',\n",
       "  'http://williams.biz/',\n",
       "  'http://www.solis.info/',\n",
       "  'http://lopez.net/'],\n",
       " 'username': 'elliotttyler',\n",
       " 'name': 'Brandon Thomas Jr.',\n",
       " 'sex': 'M',\n",
       " 'address': '8664 Krause Village Apt. 608\\nEast Catherineshire, DC 35979',\n",
       " 'mail': 'velasquezclayton@yahoo.com',\n",
       " 'birthdate': datetime.date(1974, 2, 2)}"
      ]
     },
     "execution_count": 2,
     "metadata": {},
     "output_type": "execute_result"
    }
   ],
   "source": [
    "fake = Faker()\n",
    "fake.profile()"
   ]
  },
  {
   "cell_type": "code",
   "execution_count": 3,
   "metadata": {},
   "outputs": [],
   "source": [
    "Profile = namedtuple('Profile', fake.profile().keys())"
   ]
  },
  {
   "cell_type": "code",
   "execution_count": 5,
   "metadata": {},
   "outputs": [
    {
     "name": "stdout",
     "output_type": "stream",
     "text": [
      "Help on class Profile in module __main__:\n",
      "\n",
      "class Profile(builtins.tuple)\n",
      " |  Profile(job, company, ssn, residence, current_location, blood_group, website, username, name, sex, address, mail, birthdate)\n",
      " |  \n",
      " |  Method resolution order:\n",
      " |      Profile\n",
      " |      builtins.tuple\n",
      " |      builtins.object\n",
      " |  \n",
      " |  Methods defined here:\n",
      " |  \n",
      " |  __getnewargs__(self)\n",
      " |      Return self as a plain tuple.  Used by copy and pickle.\n",
      " |  \n",
      " |  __repr__(self)\n",
      " |      Return a nicely formatted representation string\n",
      " |  \n",
      " |  _asdict(self)\n",
      " |      Return a new OrderedDict which maps field names to their values.\n",
      " |  \n",
      " |  _replace(_self, **kwds)\n",
      " |      Return a new Profile object replacing specified fields with new values\n",
      " |  \n",
      " |  ----------------------------------------------------------------------\n",
      " |  Class methods defined here:\n",
      " |  \n",
      " |  _make(iterable, new=<built-in method __new__ of type object at 0x56177ee815a0>, len=<built-in function len>) from builtins.type\n",
      " |      Make a new Profile object from a sequence or iterable\n",
      " |  \n",
      " |  ----------------------------------------------------------------------\n",
      " |  Static methods defined here:\n",
      " |  \n",
      " |  __new__(_cls, job, company, ssn, residence, current_location, blood_group, website, username, name, sex, address, mail, birthdate)\n",
      " |      Create new instance of Profile(job, company, ssn, residence, current_location, blood_group, website, username, name, sex, address, mail, birthdate)\n",
      " |  \n",
      " |  ----------------------------------------------------------------------\n",
      " |  Data descriptors defined here:\n",
      " |  \n",
      " |  job\n",
      " |      Alias for field number 0\n",
      " |  \n",
      " |  company\n",
      " |      Alias for field number 1\n",
      " |  \n",
      " |  ssn\n",
      " |      Alias for field number 2\n",
      " |  \n",
      " |  residence\n",
      " |      Alias for field number 3\n",
      " |  \n",
      " |  current_location\n",
      " |      Alias for field number 4\n",
      " |  \n",
      " |  blood_group\n",
      " |      Alias for field number 5\n",
      " |  \n",
      " |  website\n",
      " |      Alias for field number 6\n",
      " |  \n",
      " |  username\n",
      " |      Alias for field number 7\n",
      " |  \n",
      " |  name\n",
      " |      Alias for field number 8\n",
      " |  \n",
      " |  sex\n",
      " |      Alias for field number 9\n",
      " |  \n",
      " |  address\n",
      " |      Alias for field number 10\n",
      " |  \n",
      " |  mail\n",
      " |      Alias for field number 11\n",
      " |  \n",
      " |  birthdate\n",
      " |      Alias for field number 12\n",
      " |  \n",
      " |  ----------------------------------------------------------------------\n",
      " |  Data and other attributes defined here:\n",
      " |  \n",
      " |  _fields = ('job', 'company', 'ssn', 'residence', 'current_location', '...\n",
      " |  \n",
      " |  _source = \"from builtins import property as _property, tupl...temgette...\n",
      " |  \n",
      " |  ----------------------------------------------------------------------\n",
      " |  Methods inherited from builtins.tuple:\n",
      " |  \n",
      " |  __add__(self, value, /)\n",
      " |      Return self+value.\n",
      " |  \n",
      " |  __contains__(self, key, /)\n",
      " |      Return key in self.\n",
      " |  \n",
      " |  __eq__(self, value, /)\n",
      " |      Return self==value.\n",
      " |  \n",
      " |  __ge__(self, value, /)\n",
      " |      Return self>=value.\n",
      " |  \n",
      " |  __getattribute__(self, name, /)\n",
      " |      Return getattr(self, name).\n",
      " |  \n",
      " |  __getitem__(self, key, /)\n",
      " |      Return self[key].\n",
      " |  \n",
      " |  __gt__(self, value, /)\n",
      " |      Return self>value.\n",
      " |  \n",
      " |  __hash__(self, /)\n",
      " |      Return hash(self).\n",
      " |  \n",
      " |  __iter__(self, /)\n",
      " |      Implement iter(self).\n",
      " |  \n",
      " |  __le__(self, value, /)\n",
      " |      Return self<=value.\n",
      " |  \n",
      " |  __len__(self, /)\n",
      " |      Return len(self).\n",
      " |  \n",
      " |  __lt__(self, value, /)\n",
      " |      Return self<value.\n",
      " |  \n",
      " |  __mul__(self, value, /)\n",
      " |      Return self*value.\n",
      " |  \n",
      " |  __ne__(self, value, /)\n",
      " |      Return self!=value.\n",
      " |  \n",
      " |  __rmul__(self, value, /)\n",
      " |      Return value*self.\n",
      " |  \n",
      " |  count(...)\n",
      " |      T.count(value) -> integer -- return number of occurrences of value\n",
      " |  \n",
      " |  index(...)\n",
      " |      T.index(value, [start, [stop]]) -> integer -- return first index of value.\n",
      " |      Raises ValueError if the value is not present.\n",
      "\n"
     ]
    }
   ],
   "source": [
    "#Callinf Help\n",
    "help(Profile)"
   ]
  },
  {
   "cell_type": "markdown",
   "metadata": {},
   "source": [
    "Getting all the attributes of Profile object"
   ]
  },
  {
   "cell_type": "code",
   "execution_count": 6,
   "metadata": {},
   "outputs": [
    {
     "data": {
      "text/plain": [
       "('job',\n",
       " 'company',\n",
       " 'ssn',\n",
       " 'residence',\n",
       " 'current_location',\n",
       " 'blood_group',\n",
       " 'website',\n",
       " 'username',\n",
       " 'name',\n",
       " 'sex',\n",
       " 'address',\n",
       " 'mail',\n",
       " 'birthdate')"
      ]
     },
     "execution_count": 6,
     "metadata": {},
     "output_type": "execute_result"
    }
   ],
   "source": [
    "Profile._fields"
   ]
  },
  {
   "cell_type": "code",
   "execution_count": 9,
   "metadata": {},
   "outputs": [],
   "source": [
    "#Sample for Storing data in namedtuple\n",
    "pt = Profile(**fake.profile())"
   ]
  },
  {
   "cell_type": "code",
   "execution_count": 10,
   "metadata": {},
   "outputs": [
    {
     "data": {
      "text/plain": [
       "Profile(job='Teacher, English as a foreign language', company='Taylor-Obrien', ssn='692-20-6979', residence='44051 Powers Village Suite 956\\nSouth Becky, MI 97569', current_location=(Decimal('-66.781193'), Decimal('-164.079020')), blood_group='B-', website=['https://www.taylor.com/', 'https://brown.com/', 'https://mendez-conley.com/'], username='vincent12', name='Kirk Franklin', sex='M', address='5477 Hernandez Plaza\\nWest Briannaborough, MT 72020', mail='clester@gmail.com', birthdate=datetime.date(1932, 4, 22))"
      ]
     },
     "execution_count": 10,
     "metadata": {},
     "output_type": "execute_result"
    }
   ],
   "source": [
    "pt"
   ]
  },
  {
   "cell_type": "code",
   "execution_count": 11,
   "metadata": {},
   "outputs": [],
   "source": [
    "def timed(fn: \"Function\"):\n",
    "    \"\"\"\n",
    "    Decorator to calculate run time of a function.\n",
    "    \"\"\"\n",
    "    @wraps(fn)\n",
    "    def inner(*args, **kwargs) -> \"Function Output\":\n",
    "        \"\"\"\n",
    "        Inner function to calculate the time.\n",
    "        \"\"\"\n",
    "        start = perf_counter()\n",
    "        result = fn(*args, **kwargs)\n",
    "        end = perf_counter()\n",
    "        time_elapsed = (end - start)\n",
    "        print('Run time: {0:.6f}s'.format(time_elapsed))\n",
    "        return result\n",
    "    return inner"
   ]
  },
  {
   "cell_type": "code",
   "execution_count": 12,
   "metadata": {},
   "outputs": [],
   "source": [
    "def generate_profiles_using_namedtuple(no_profiles: int):\n",
    "    \"\"\"\n",
    "   To create a fake profiles of given number of people using namedtuples\n",
    "\n",
    "\n",
    "    \"\"\"\n",
    "    profiles = []\n",
    "    Profile = namedtuple('Profile', fake.profile().keys())\n",
    "    for _ in range(no_profiles):\n",
    "        profiles.append(Profile(**fake.profile()))\n",
    "    return profiles"
   ]
  },
  {
   "cell_type": "code",
   "execution_count": 13,
   "metadata": {},
   "outputs": [],
   "source": [
    "def generate_profiles_using_dictionary(no_profiles: int):\n",
    "    \"\"\"\n",
    "     To create a fake profiles of given number of people using dictornary\n",
    "     \n",
    "     \"\"\"\n",
    "    profiles = []\n",
    "    for _ in range(no_profiles):\n",
    "        profiles.append(fake.profile())\n",
    "    return profiles"
   ]
  },
  {
   "cell_type": "code",
   "execution_count": 14,
   "metadata": {},
   "outputs": [
    {
     "data": {
      "text/plain": [
       "[{'job': 'Producer, radio',\n",
       "  'company': 'Perez, Bush and Russell',\n",
       "  'ssn': '501-73-8857',\n",
       "  'residence': '27816 Turner Valley\\nHintonhaven, MD 47987',\n",
       "  'current_location': (Decimal('87.7488365'), Decimal('-122.269704')),\n",
       "  'blood_group': 'A+',\n",
       "  'website': ['https://anderson.net/', 'http://nguyen-hill.com/'],\n",
       "  'username': 'nguyenshawn',\n",
       "  'name': 'Jennifer Richard',\n",
       "  'sex': 'F',\n",
       "  'address': '841 Curtis Garden\\nPort April, KS 59401',\n",
       "  'mail': 'hendersonrichard@yahoo.com',\n",
       "  'birthdate': datetime.date(1997, 4, 29)}]"
      ]
     },
     "execution_count": 14,
     "metadata": {},
     "output_type": "execute_result"
    }
   ],
   "source": [
    "generate_profiles_using_dictionary(1)"
   ]
  },
  {
   "cell_type": "code",
   "execution_count": 15,
   "metadata": {},
   "outputs": [],
   "source": [
    "@timed\n",
    "def calc_data_using_namedtuple() -> \"namedtuple\":\n",
    "    \"\"\"\n",
    "    calculate the largest blood type, mean-current_location, \n",
    "    oldest_person_age and average age of a generated 1000 profiles using namedtuple\n",
    "    \"\"\"\n",
    "    no_profiles = 10000\n",
    "    profiles = generate_profiles_using_namedtuple(no_profiles)\n",
    "    date_today = datetime.date.today()\n",
    "    blood_gp = dict()\n",
    "    max_age = {'age': 0, 'profile': None}\n",
    "    cur_loc_coord_sum = [0, 0]\n",
    "    sum_ages = 0\n",
    "    for profile in profiles:\n",
    "        blood_gp[profile.blood_group] = blood_gp.get(profile.blood_group,0) + 1\n",
    "        age = (date_today - profile.birthdate).days\n",
    "        if  age > max_age['age']:\n",
    "            max_age['age'] = age\n",
    "            max_age['profile'] = profile\n",
    "        cur_loc_coord_sum[0] += profile.current_location[0]\n",
    "        cur_loc_coord_sum[1] += profile.current_location[1]\n",
    "        sum_ages += int(age/365)\n",
    "\n",
    "    data = namedtuple('data', 'largest_blood_type mean_current_location oldest_person average_age')\n",
    "    bg_l = max(blood_gp, key=blood_gp.get)\n",
    "    mean_current_location = (cur_loc_coord_sum[0]/no_profiles, cur_loc_coord_sum[1]/no_profiles)\n",
    "    return data((bg_l, blood_gp[bg_l]), mean_current_location, (max_age['profile'], int(max_age['age']/365)), int(sum_ages/no_profiles))"
   ]
  },
  {
   "cell_type": "code",
   "execution_count": 16,
   "metadata": {},
   "outputs": [
    {
     "name": "stdout",
     "output_type": "stream",
     "text": [
      "Run time: 10.511904s\n"
     ]
    },
    {
     "data": {
      "text/plain": [
       "data(largest_blood_type=('B+', 1292), mean_current_location=(Decimal('-0.1784092672'), Decimal('-0.2385069857')), oldest_person=(Profile(job='Freight forwarder', company='Kim-Keller', ssn='446-92-4340', residence='06716 Tanya Drive Suite 005\\nWilliamville, CT 61463', current_location=(Decimal('-23.9679155'), Decimal('-49.961872')), blood_group='A+', website=['http://powell-evans.net/', 'http://www.dunn.com/', 'https://thompson.biz/'], username='chungvirginia', name='Michael Thomas', sex='M', address='Unit 8699 Box 8107\\nDPO AP 18311', mail='sanchezbeth@yahoo.com', birthdate=datetime.date(1905, 3, 15)), 116), average_age=57)"
      ]
     },
     "execution_count": 16,
     "metadata": {},
     "output_type": "execute_result"
    }
   ],
   "source": [
    "# Using namedtuple, calculate the largest blood type,\n",
    "# mean-current_location, oldest_person_age and average age (add proper doc-strings)\n",
    "\n",
    "calc_data_using_namedtuple()"
   ]
  },
  {
   "cell_type": "code",
   "execution_count": 17,
   "metadata": {},
   "outputs": [],
   "source": [
    "@timed\n",
    "def calc_data_using_dictionary() -> \"Dictionary\":\n",
    "    \"\"\"\n",
    "    calculate the largest blood type, mean-current_location, \n",
    "    oldest_person_age and average age of a generated 1000 profiles using dictionary\n",
    "    \n",
    "    \"\"\"\n",
    "    no_profiles = 10000\n",
    "    profiles = generate_profiles_using_dictionary(no_profiles)\n",
    "    date_today = datetime.date.today()\n",
    "    blood_gp = dict()\n",
    "    max_age = {'age': 0, 'proflie': None}\n",
    "    cur_loc_coord_sum = [0, 0]\n",
    "    sum_ages = 0\n",
    "    for profile in profiles:\n",
    "        \n",
    "        blood_gp[profile['blood_group']] = blood_gp.get(profile['blood_group'],0) + 1\n",
    "        age = (date_today - profile['birthdate']).days\n",
    "        if  age > max_age['age']:\n",
    "            max_age['age'] = age\n",
    "            max_age['profile'] = profile\n",
    "        cur_loc_coord_sum[0] += profile['current_location'][0]\n",
    "        cur_loc_coord_sum[1] += profile['current_location'][1]\n",
    "        sum_ages += int(age/365)\n",
    "    bg_l = max(blood_gp, key=blood_gp.get)\n",
    "    mean_current_location = (cur_loc_coord_sum[0]/no_profiles, cur_loc_coord_sum[1]/no_profiles)\n",
    "    return {'largest_blood_type': (bg_l, blood_gp[bg_l]), 'mean_current_location': mean_current_location, 'oldest_person': (max_age['profile'], int(max_age['age']/365)), 'average_age': int(sum_ages/no_profiles)}\n"
   ]
  },
  {
   "cell_type": "code",
   "execution_count": 18,
   "metadata": {},
   "outputs": [
    {
     "name": "stdout",
     "output_type": "stream",
     "text": [
      "Run time: 11.467613s\n"
     ]
    },
    {
     "data": {
      "text/plain": [
       "{'largest_blood_type': ('B+', 1285),\n",
       " 'mean_current_location': (Decimal('0.14045176675'), Decimal('0.2845485432')),\n",
       " 'oldest_person': ({'job': 'Teacher, special educational needs',\n",
       "   'company': 'Becker-Jackson',\n",
       "   'ssn': '079-08-9697',\n",
       "   'residence': 'Unit 1032 Box 2599\\nDPO AA 67487',\n",
       "   'current_location': (Decimal('-14.5849115'), Decimal('-0.347528')),\n",
       "   'blood_group': 'B-',\n",
       "   'website': ['http://www.blevins.info/', 'https://kelley.com/'],\n",
       "   'username': 'sandra09',\n",
       "   'name': 'Bryan Peterson',\n",
       "   'sex': 'M',\n",
       "   'address': '90130 Melissa Extensions Suite 377\\nCraigchester, UT 11372',\n",
       "   'mail': 'hnelson@yahoo.com',\n",
       "   'birthdate': datetime.date(1905, 3, 10)},\n",
       "  116),\n",
       " 'average_age': 57}"
      ]
     },
     "execution_count": 18,
     "metadata": {},
     "output_type": "execute_result"
    }
   ],
   "source": [
    "calc_data_using_dictionary()"
   ]
  },
  {
   "cell_type": "code",
   "execution_count": 20,
   "metadata": {},
   "outputs": [
    {
     "name": "stdout",
     "output_type": "stream",
     "text": [
      "\n",
      "------------------------------------Top 100 listed companies on TSAI Stock Exchange------------------------------------\n",
      "Stocks(name='Alvarado-Callahan', symbol='AC', open=1178.91, high=1185.24, close=1185.24, company_weight=65.659)\n",
      "Stocks(name='Andrews, Clark and Huffman', symbol='ACH', open=2776.58, high=2915.41, close=2789.73, company_weight=37.315)\n",
      "Stocks(name='Arnold, James and Solis', symbol='AJS', open=156.26, high=156.26, close=154.16, company_weight=48.138)\n",
      "Stocks(name='Andrews and Sons', symbol='AS', open=2428.19, high=2428.19, close=2422.75, company_weight=15.939)\n",
      "Stocks(name='Adams, Smith and Cannon', symbol='ASC', open=3170.59, high=3170.59, close=3167.3, company_weight=75.613)\n",
      "Stocks(name='Aguirre, Sanchez and Yu', symbol='ASY', open=1597.49, high=1597.49, close=1597.03, company_weight=61.071)\n",
      "Stocks(name='Buchanan Group', symbol='BG', open=498.82, high=498.82, close=495.96, company_weight=19.521)\n",
      "Stocks(name='Brown Group', symbol='BG', open=1009.53, high=1015.48, close=1015.48, company_weight=68.704)\n",
      "Stocks(name='Butler Inc', symbol='BI', open=1373.54, high=1387.28, close=1378.41, company_weight=49.492)\n",
      "Stocks(name='Barnes-Jacobson', symbol='BJ', open=3113.81, high=3114.29, close=3114.29, company_weight=44.408)\n",
      "Stocks(name='Brown Ltd', symbol='BL', open=3575.07, high=4111.33, close=3784.18, company_weight=33.633)\n",
      "Stocks(name='Brown, Miller and Fields', symbol='BMF', open=1150.84, high=1496.09, close=1437.69, company_weight=21.705)\n",
      "Stocks(name='Berry PLC', symbol='BPLC', open=932.26, high=938.1, close=938.1, company_weight=18.899)\n",
      "Stocks(name='Byrd PLC', symbol='BPLC', open=2107.2, high=2739.36, close=2498.75, company_weight=79.064)\n",
      "Stocks(name='Burnett and Sons', symbol='BS', open=3711.18, high=4342.08, close=3724.98, company_weight=56.2)\n",
      "Stocks(name='Chang LLC', symbol='CLLC', open=3686.52, high=3686.52, close=3680.17, company_weight=21.408)\n",
      "Stocks(name='Clark LLC', symbol='CLLC', open=3465.35, high=3468.97, close=3468.97, company_weight=37.84)\n",
      "Stocks(name='Cruz PLC', symbol='CPLC', open=1368.03, high=1764.76, close=1391.82, company_weight=45.451)\n",
      "Stocks(name='Davis-Chen', symbol='DC', open=2553.45, high=2732.19, close=2602.44, company_weight=73.017)\n",
      "Stocks(name='Daugherty-Johns', symbol='DJ', open=252.87, high=316.09, close=286.94, company_weight=25.382)\n",
      "Stocks(name='Day-Young', symbol='DY', open=2571.98, high=2573.12, close=2573.12, company_weight=51.704)\n",
      "Stocks(name='Elliott, Allen and Mcpherson', symbol='EAM', open=589.15, high=597.06, close=597.06, company_weight=40.585)\n",
      "Stocks(name='Escobar Ltd', symbol='EL', open=53.91, high=59.15, close=59.15, company_weight=41.568)\n",
      "Stocks(name='Estrada PLC', symbol='EPLC', open=3078.15, high=3324.4, close=3136.12, company_weight=66.421)\n",
      "Stocks(name='Evans and Sons', symbol='ES', open=1797.77, high=1833.73, close=1826.83, company_weight=38.66)\n",
      "Stocks(name='Frederick, Jenkins and Higgins', symbol='FJH', open=2120.95, high=2125.95, close=2125.95, company_weight=19.555)\n",
      "Stocks(name='Francis-Moore', symbol='FM', open=3701.23, high=3709.96, close=3709.96, company_weight=63.374)\n",
      "Stocks(name='Frey, Parker and Castillo', symbol='FPC', open=3276.7, high=3276.7, close=3270.75, company_weight=23.629)\n",
      "Stocks(name='Gomez, Andrade and Hebert', symbol='GAH', open=88.09, high=89.38, close=89.38, company_weight=41.573)\n",
      "Stocks(name='Green LLC', symbol='GLLC', open=3943.53, high=5047.72, close=4610.45, company_weight=40.076)\n",
      "Stocks(name='Gardner, Raymond and Mendoza', symbol='GRM', open=2124.14, high=2464.0, close=2416.64, company_weight=67.212)\n",
      "Stocks(name='Gregory and Sons', symbol='GS', open=2028.81, high=2353.42, close=2340.25, company_weight=69.885)\n",
      "Stocks(name='Garcia and Sons', symbol='GS', open=176.61, high=222.53, close=181.91, company_weight=20.812)\n",
      "Stocks(name='George, Torres and Schwartz', symbol='GTS', open=2173.99, high=2176.02, close=2176.02, company_weight=27.131)\n",
      "Stocks(name='Huff Group', symbol='HG', open=3748.2, high=4647.77, close=3760.27, company_weight=51.565)\n",
      "Stocks(name='Henry-Jackson', symbol='HJ', open=3052.59, high=3052.59, close=3048.63, company_weight=18.359)\n",
      "Stocks(name='Hayes LLC', symbol='HLLC', open=457.24, high=481.87, close=481.87, company_weight=56.06)\n",
      "Stocks(name='Hall LLC', symbol='HLLC', open=2123.34, high=2123.34, close=2118.07, company_weight=32.458)\n",
      "Stocks(name='Haynes LLC', symbol='HLLC', open=1784.94, high=2088.38, close=2081.23, company_weight=68.167)\n",
      "Stocks(name='Hudson, Nelson and Brock', symbol='HNB', open=1882.36, high=1882.36, close=1879.97, company_weight=74.249)\n",
      "Stocks(name='Hughes-Rasmussen', symbol='HR', open=594.77, high=755.36, close=725.35, company_weight=26.866)\n",
      "Stocks(name='Hammond, Smith and Roberson', symbol='HSR', open=1055.58, high=1057.58, close=1057.58, company_weight=48.618)\n",
      "Stocks(name='Harrison-Wade', symbol='HW', open=1837.29, high=1837.29, close=1829.44, company_weight=23.699)\n",
      "Stocks(name='Ibarra-Pierce', symbol='IP', open=2621.1, high=3223.95, close=3044.91, company_weight=32.341)\n",
      "Stocks(name='Jones-Bennett', symbol='JB', open=1882.19, high=1889.91, close=1889.91, company_weight=51.549)\n",
      "Stocks(name='Jones-Daniel', symbol='JD', open=366.43, high=366.43, close=361.64, company_weight=75.739)\n",
      "Stocks(name='Jones, Evans and Boyle', symbol='JEB', open=2312.33, high=2316.26, close=2316.26, company_weight=56.949)\n",
      "Stocks(name='Jenkins, Gregory and Morgan', symbol='JGM', open=1607.12, high=2249.97, close=1912.52, company_weight=35.668)\n",
      "Stocks(name='Jones-Hanson', symbol='JH', open=1528.29, high=2002.06, close=1569.16, company_weight=32.391)\n",
      "Stocks(name='Jenkins Inc', symbol='JI', open=1648.0, high=1648.0, close=1647.35, company_weight=47.812)\n",
      "Stocks(name='Jordan and Sons', symbol='JS', open=2277.91, high=2756.27, close=2633.59, company_weight=51.011)\n",
      "Stocks(name='Johnson, Walker and Rush', symbol='JWR', open=1719.07, high=1719.07, close=1711.93, company_weight=38.537)\n",
      "Stocks(name='Kim, Allison and Alexander', symbol='KAA', open=1828.07, high=1831.32, close=1831.32, company_weight=77.299)\n",
      "Stocks(name='Kane-Dunn', symbol='KD', open=3828.57, high=4900.57, close=4448.89, company_weight=55.988)\n",
      "Stocks(name='Kelley-Jones', symbol='KJ', open=2452.83, high=2453.62, close=2453.62, company_weight=62.8)\n",
      "Stocks(name='Kelley Ltd', symbol='KL', open=2474.47, high=2746.66, close=2592.34, company_weight=43.841)\n",
      "Stocks(name='Lowe-Conway', symbol='LC', open=1698.18, high=1986.87, close=1780.97, company_weight=25.12)\n",
      "Stocks(name='Lee Inc', symbol='LI', open=3172.16, high=3173.09, close=3173.09, company_weight=50.655)\n",
      "Stocks(name='Lee PLC', symbol='LPLC', open=2308.1, high=2308.1, close=2308.09, company_weight=67.497)\n",
      "Stocks(name='Li, Robertson and Rose', symbol='LRR', open=3189.02, high=3194.94, close=3194.94, company_weight=26.859)\n",
      "Stocks(name='Lara, Taylor and Watson', symbol='LTW', open=2663.23, high=2666.61, close=2666.61, company_weight=64.445)\n",
      "Stocks(name='Maldonado Inc', symbol='MI', open=2391.84, high=2463.6, close=2409.85, company_weight=52.842)\n",
      "Stocks(name='Miller-Lynch', symbol='ML', open=3919.98, high=3919.98, close=3913.94, company_weight=21.759)\n",
      "Stocks(name='Marshall-Lamb', symbol='ML', open=3990.83, high=3990.83, close=3989.56, company_weight=17.369)\n",
      "Stocks(name='Macias, Lee and Miles', symbol='MLM', open=2703.41, high=3352.23, close=2719.57, company_weight=70.657)\n",
      "Stocks(name='Mccoy-Morris', symbol='MM', open=136.76, high=142.42, close=142.42, company_weight=37.612)\n",
      "Stocks(name='Morgan, Scott and Jimenez', symbol='MSJ', open=410.79, high=542.24, close=427.02, company_weight=27.119)\n",
      "Stocks(name='Newman-Anderson', symbol='NA', open=2854.28, high=3253.88, close=2932.22, company_weight=75.967)\n",
      "Stocks(name='Nelson, Schmidt and Lee', symbol='NSL', open=3367.04, high=3367.04, close=3366.58, company_weight=24.38)\n",
      "Stocks(name='Ortiz, Bennett and Tran', symbol='OBT', open=1838.34, high=2371.46, close=2084.44, company_weight=29.622)\n",
      "Stocks(name='Oconnor-Gray', symbol='OG', open=3516.29, high=3519.96, close=3519.96, company_weight=36.902)\n",
      "Stocks(name='Ochoa LLC', symbol='OLLC', open=55.5, high=63.88, close=63.88, company_weight=26.933)\n",
      "Stocks(name='Pineda, Kelley and Aguilar', symbol='PKA', open=3150.05, high=3150.05, close=3148.65, company_weight=53.069)\n",
      "Stocks(name='Pierce-Stout', symbol='PS', open=3680.07, high=3684.79, close=3684.79, company_weight=67.121)\n",
      "Stocks(name='Roth, Davis and Mitchell', symbol='RDM', open=3789.08, high=3789.08, close=3789.05, company_weight=78.263)\n",
      "Stocks(name='Rodriguez, Gillespie and Dillon', symbol='RGD', open=1623.17, high=1623.17, close=1616.87, company_weight=46.309)\n",
      "Stocks(name='Roman, Jefferson and Griffin', symbol='RJG', open=1786.0, high=1792.0, close=1792.0, company_weight=63.776)\n",
      "Stocks(name='Ross, Kane and Montgomery', symbol='RKM', open=518.96, high=523.39, close=523.39, company_weight=23.051)\n",
      "Stocks(name='Robertson and Sons', symbol='RS', open=3938.59, high=3938.59, close=3933.12, company_weight=50.5)\n",
      "Stocks(name='Richardson, Shaw and Baker', symbol='RSB', open=2051.01, high=2809.88, close=2238.58, company_weight=60.082)\n",
      "Stocks(name='Spears, Bean and Nelson', symbol='SBN', open=3160.0, high=3160.0, close=3157.44, company_weight=57.869)\n",
      "Stocks(name='Sullivan-Deleon', symbol='SD', open=1074.88, high=1074.88, close=1074.72, company_weight=73.908)\n",
      "Stocks(name='Stuart-Jones', symbol='SJ', open=2248.19, high=2540.45, close=2533.03, company_weight=79.241)\n",
      "Stocks(name='Short-Singh', symbol='SS', open=2665.77, high=3278.9, close=2962.47, company_weight=57.625)\n",
      "Stocks(name='Shea-Willis', symbol='SW', open=2367.92, high=2368.58, close=2368.58, company_weight=61.261)\n",
      "Stocks(name='Tate, Hill and Baker', symbol='THB', open=741.93, high=934.83, close=740.48, company_weight=45.753)\n",
      "Stocks(name='Taylor, Hamilton and Hamilton', symbol='THH', open=134.65, high=145.84, close=145.84, company_weight=34.536)\n",
      "Stocks(name='Turner, Roberts and Strickland', symbol='TRS', open=3799.98, high=5091.97, close=4112.99, company_weight=66.082)\n",
      "Stocks(name='Walter-Bryant', symbol='WB', open=3852.85, high=3852.85, close=3850.14, company_weight=68.363)\n",
      "Stocks(name='West-Franklin', symbol='WF', open=1658.96, high=2140.06, close=1651.44, company_weight=54.703)\n",
      "Stocks(name='Williams-Garcia', symbol='WG', open=3812.15, high=5070.16, close=4033.32, company_weight=66.944)\n",
      "Stocks(name='Wolf Inc', symbol='WI', open=752.9, high=941.12, close=893.49, company_weight=32.683)\n",
      "Stocks(name='Walton, Jones and Mendez', symbol='WJM', open=1454.36, high=1454.36, close=1450.75, company_weight=49.848)\n",
      "Stocks(name='Williams Ltd', symbol='WL', open=287.92, high=374.3, close=364.6, company_weight=53.311)\n",
      "Stocks(name='Wright LLC', symbol='WLLC', open=481.15, high=485.64, close=485.64, company_weight=72.455)\n",
      "Stocks(name='Williams-Mendoza', symbol='WM', open=2956.78, high=2956.78, close=2950.79, company_weight=38.28)\n",
      "Stocks(name='Wilson-Nguyen', symbol='WN', open=893.08, high=1071.7, close=1030.49, company_weight=75.671)\n",
      "Stocks(name='Williams and Sons', symbol='WS', open=1718.84, high=1736.03, close=1722.83, company_weight=17.132)\n",
      "Stocks(name='Weaver-Williams', symbol='WW', open=1991.99, high=1991.99, close=1990.37, company_weight=61.167)\n",
      "Stocks(name='Walsh, Walter and Henderson', symbol='WWH', open=2885.63, high=2891.03, close=2891.03, company_weight=53.63)\n",
      "\n",
      "--------------Main details on 2021-03-06--------------\n",
      "\n",
      "Stock Index: 10287630.2667\n",
      "Highest for the day: 339416.79\n",
      "Lowest close for the day: 1720.48\n",
      "Run time: 0.024415s\n"
     ]
    }
   ],
   "source": [
    "def get_capitalized_letters(string):\n",
    "    \"\"\"Returns joined string if characters are upper case\"\"\"\n",
    "    return ''.join(x for x in string if x.isupper())\n",
    "\n",
    "@timed\n",
    "def stock_market():\n",
    "    \"\"\"\n",
    "    To create a fake stock data set for imaginary stock exchange for top 100 companies (name, symbol, open, high, close).\n",
    "    Tasks_ToDo: Assign a random weight to all the companies. Calculate and show what value stock market started at, what was the highest value during the day and where did it end.\n",
    "    \"\"\"\n",
    "    all_companies = []\n",
    "    Stocks = namedtuple(\"Stocks\", 'name symbol open high close company_weight')\n",
    "    for _ in range(100):\n",
    "        name = fake.company()\n",
    "        open_ = round(random.uniform(41, 3999), 2)\n",
    "        high_num = round(random.uniform(0.613, 1.4), 2)  # market is damn volatile\n",
    "        high = open_ * high_num if high_num > 1.0 else open_\n",
    "        close = random.uniform(open_ - random.randint(-10, 10), high + random.randint(-8, 10))\n",
    "        if close > high:\n",
    "            high = close\n",
    "\n",
    "        all_companies.append(\n",
    "            Stocks(name=name, symbol=get_capitalized_letters(name), open=open_, high=round(high, 2), close=round(close, 2), company_weight=round(random.uniform(15, 80), 3)))\n",
    "\n",
    "    stock_index = round(sum(x.open * x.company_weight for x in all_companies), 4)\n",
    "    highest_for_day = round(max(x.high * x.company_weight for x in all_companies), 2)\n",
    "    lowest_close_for_day = round(min(x.close * x.company_weight for x in all_companies), 2)\n",
    "\n",
    "    print(f\"\\n------------------------------------Top 100 listed companies on TSAI Stock Exchange------------------------------------\")\n",
    "    [print(x) for x in sorted(all_companies, key=lambda x:x.symbol)]\n",
    "    print(f\"\\n--------------Main details on {date.today()}--------------\")\n",
    "    print(f\"\\nStock Index: {stock_index}\")\n",
    "    print(f\"Highest for the day: {highest_for_day}\")\n",
    "    print(f\"Lowest close for the day: {lowest_close_for_day}\")\n",
    "\n",
    "\n",
    "stock_market()"
   ]
  },
  {
   "cell_type": "code",
   "execution_count": null,
   "metadata": {},
   "outputs": [],
   "source": []
  },
  {
   "cell_type": "code",
   "execution_count": null,
   "metadata": {},
   "outputs": [],
   "source": []
  }
 ],
 "metadata": {
  "kernelspec": {
   "display_name": "Python 3",
   "language": "python",
   "name": "python3"
  },
  "language_info": {
   "codemirror_mode": {
    "name": "ipython",
    "version": 3
   },
   "file_extension": ".py",
   "mimetype": "text/x-python",
   "name": "python",
   "nbconvert_exporter": "python",
   "pygments_lexer": "ipython3",
   "version": "3.6.11"
  }
 },
 "nbformat": 4,
 "nbformat_minor": 2
}
